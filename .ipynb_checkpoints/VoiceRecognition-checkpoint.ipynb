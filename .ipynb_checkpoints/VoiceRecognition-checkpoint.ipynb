{
 "cells": [
  {
   "cell_type": "markdown",
   "metadata": {},
   "source": [
    "## Dependencies required are pyaudio, speechrecognition, playsound, gTTS"
   ]
  },
  {
   "cell_type": "code",
   "execution_count": 1,
   "metadata": {},
   "outputs": [],
   "source": [
    "#vital imports and one time access files\n",
    "\n",
    "import os, pyaudio, wave, time, csv, pandas as pd, speech_recognition as sr\n",
    "from gtts import gTTS\n",
    "from playsound import playsound\n",
    "from threading import Thread\n",
    "recognizer=sr.Recognizer()\n",
    "    \n",
    "\n",
    "probable_ans=pd.read_csv(\"probable_answers.csv\")\n",
    "temp=probable_ans.iloc[:,1:]\n",
    "ans=temp.to_numpy().tolist()\n",
    "\n",
    "no_of_questions=(len([name for name in os.listdir('questions/')]))"
   ]
  },
  {
   "cell_type": "code",
   "execution_count": 2,
   "metadata": {},
   "outputs": [],
   "source": [
    "def recognize(filename, lang=\"ne-NP\"):\n",
    "    my_file=sr.AudioFile(filename)\n",
    "    with my_file as source:\n",
    "        recognizer.adjust_for_ambient_noise(source)\n",
    "        audio = recognizer.record(source)\n",
    "    try:\n",
    "        output=recognizer.recognize_google(audio, language=lang, show_all=True)\n",
    "    except sr.RequestError:\n",
    "        output=\"API unavailable or did not response\"\n",
    "    except sr.UnknownValueError:\n",
    "        output=\"Did not recognize the audio\"\n",
    "    return output"
   ]
  },
  {
   "cell_type": "code",
   "execution_count": 3,
   "metadata": {},
   "outputs": [],
   "source": [
    "def record_and_save(num):\n",
    "    time.sleep(1)\n",
    "    print(num)\n",
    "    chunk = 1024\n",
    "    sample_format = pyaudio.paInt16\n",
    "    channels = 2\n",
    "    fs = 44100\n",
    "    seconds = 5\n",
    "    filename = folder+\"/\"+str(num)+\".wav\"\n",
    "\n",
    "    p = pyaudio.PyAudio()\n",
    "\n",
    "    stream = p.open(format=sample_format,\n",
    "                    channels=channels,\n",
    "                    rate=fs,\n",
    "                    frames_per_buffer=chunk,\n",
    "                    input=True)\n",
    "\n",
    "    frames = []\n",
    "\n",
    "\n",
    "    for i in range(0, int(fs / chunk * seconds)):\n",
    "        data = stream.read(chunk)\n",
    "        frames.append(data)\n",
    "\n",
    "\n",
    "    stream.stop_stream()\n",
    "    stream.close()\n",
    "    p.terminate()\n",
    "\n",
    "    wf = wave.open(filename, 'wb')\n",
    "    wf.setnchannels(channels)\n",
    "    wf.setsampwidth(p.get_sample_size(sample_format))\n",
    "    wf.setframerate(fs)\n",
    "    wf.writeframes(b''.join(frames))\n",
    "    wf.close()"
   ]
  },
  {
   "cell_type": "code",
   "execution_count": 4,
   "metadata": {},
   "outputs": [
    {
     "name": "stdout",
     "output_type": "stream",
     "text": [
      "0\n",
      "1\n",
      "2\n",
      "3\n",
      "4\n",
      "5\n",
      "6\n",
      "7\n",
      "8\n",
      "9\n",
      "10\n",
      "11\n",
      "12\n",
      "13\n",
      "14\n"
     ]
    }
   ],
   "source": [
    "#record here\n",
    "from random import randint\n",
    "phone_num=randint(9800000000,9869999999)\n",
    "folder=\"recorded/\"+str(phone_num)\n",
    "os.mkdir(folder)\n",
    "\n",
    "for i in range(0, no_of_questions):\n",
    "    temp=\"questions/\"+str(i)+\".mp3\"\n",
    "    \n",
    "    #thread creation\n",
    "    t1=Thread(target=playsound, args=(temp,))\n",
    "    t2=Thread(target=record_and_save, args=(i,))\n",
    "\n",
    "    t1.start()\n",
    "    t2.start()\n",
    "\n",
    "    t1.join()\n",
    "    t2.join()"
   ]
  },
  {
   "cell_type": "code",
   "execution_count": 6,
   "metadata": {},
   "outputs": [
    {
     "name": "stdout",
     "output_type": "stream",
     "text": [
      "[['छ', '6', '16', 'j6', '66'], ['छैन', 'हैन', 'chhaina'], ['अल्झेछ', 'अनि छ', 'रहर छ'], ['एकदमै लाग्छ', 'एक्दमै लाग्छ', 'एक दमै लाग्छ', 'एकदमै लाक्छ', 'एकदमै सक्छ'], ['paras हुँदैन', 'पारस हुँदैन', 'pardes हुँदैन', 'carob हुँदैन', 'पारसका हुँदैन'], 'err', ['harin', 'mahuli', 'hali', 'हली', 'haley'], ['छ', '6', '16', 'j6', 'a6'], ['10 महिना', '1052', '10 प्रश्न', '10 विभिन्न', 'दश महिना'], ['backlinko buddha छ', 'backlinko बुद्ध छ', 'ज्याकलिनको बुद्ध छ', 'ज्याकलिनको buddha छ', 'backlinko buddha 6'], ['छैन', 'हैन', 'chaina'], ['छैन', 'छछैन'], ['छैन', 'हैन', 'chaina', 'chhaina', 'kaina'], ['goo', '2019', 'facebook', 'oct', 'you'], ['छैन', 'na', 'रिना', 'लिन', 'हैन']]\n",
      "\n",
      "[9869231782, 'छ', 'छैन', '*', '*', '*', 'err', '*', 'छ', '*', '*', 'छैन', 'छैन', 'छैन', '*', 'छैन']\n"
     ]
    }
   ],
   "source": [
    "#recognize here\n",
    "output=[]\n",
    "for i in range(0, no_of_questions):\n",
    "    temp=[]\n",
    "    filename=\"recorded/\"+str(phone_num)+\"/\"+str(i)+\".wav\"\n",
    "    converted=recognize(filename)\n",
    "    if(len(converted)==0):\n",
    "        output.append(\"err\")\n",
    "    else:\n",
    "        for a in converted['alternative']:\n",
    "            temp.append(a['transcript'])\n",
    "        output.append(temp)\n",
    "\n",
    "        \n",
    "        \n",
    "#append to csv here\n",
    "import numpy as np\n",
    "results=[phone_num]\n",
    "for i in range(0, no_of_questions):\n",
    "    c = [value for value in ans[i] if value in output[i]]\n",
    "    if output[i]==\"err\":\n",
    "        results.append(\"err\")\n",
    "    else:\n",
    "        if len(c)>0:\n",
    "            results.append(c[0])\n",
    "        else:\n",
    "            results.append(\"*\")\n",
    "        \n",
    "with open(r'results.csv', 'a', encoding=\"utf-8\") as f:\n",
    "    writer = csv.writer(f)\n",
    "    writer.writerow(results)\n",
    "\n",
    "print(output)\n",
    "print()\n",
    "print(results)"
   ]
  },
  {
   "cell_type": "code",
   "execution_count": 27,
   "metadata": {},
   "outputs": [
    {
     "ename": "NameError",
     "evalue": "name 'output' is not defined",
     "output_type": "error",
     "traceback": [
      "\u001b[1;31m---------------------------------------------------------------------------\u001b[0m",
      "\u001b[1;31mNameError\u001b[0m                                 Traceback (most recent call last)",
      "\u001b[1;32m<ipython-input-27-961ed67232b2>\u001b[0m in \u001b[0;36m<module>\u001b[1;34m\u001b[0m\n\u001b[1;32m----> 1\u001b[1;33m \u001b[0moutput\u001b[0m\u001b[1;33m.\u001b[0m\u001b[0mshape\u001b[0m\u001b[1;33m\u001b[0m\u001b[1;33m\u001b[0m\u001b[0m\n\u001b[0m",
      "\u001b[1;31mNameError\u001b[0m: name 'output' is not defined"
     ]
    }
   ],
   "source": [
    "output.shape"
   ]
  },
  {
   "cell_type": "code",
   "execution_count": 9,
   "metadata": {},
   "outputs": [
    {
     "data": {
      "text/html": [
       "<div>\n",
       "<style scoped>\n",
       "    .dataframe tbody tr th:only-of-type {\n",
       "        vertical-align: middle;\n",
       "    }\n",
       "\n",
       "    .dataframe tbody tr th {\n",
       "        vertical-align: top;\n",
       "    }\n",
       "\n",
       "    .dataframe thead th {\n",
       "        text-align: right;\n",
       "    }\n",
       "</style>\n",
       "<table border=\"1\" class=\"dataframe\">\n",
       "  <thead>\n",
       "    <tr style=\"text-align: right;\">\n",
       "      <th></th>\n",
       "      <th>phone num</th>\n",
       "      <th>1</th>\n",
       "      <th>2</th>\n",
       "      <th>3</th>\n",
       "      <th>4</th>\n",
       "      <th>5</th>\n",
       "      <th>6</th>\n",
       "      <th>7</th>\n",
       "      <th>8</th>\n",
       "      <th>9</th>\n",
       "      <th>10</th>\n",
       "      <th>11</th>\n",
       "      <th>12</th>\n",
       "      <th>13</th>\n",
       "      <th>14</th>\n",
       "      <th>15</th>\n",
       "    </tr>\n",
       "  </thead>\n",
       "  <tbody>\n",
       "    <tr>\n",
       "      <td>0</td>\n",
       "      <td>9869231782</td>\n",
       "      <td>छ</td>\n",
       "      <td>छैन</td>\n",
       "      <td>*</td>\n",
       "      <td>*</td>\n",
       "      <td>*</td>\n",
       "      <td>err</td>\n",
       "      <td>*</td>\n",
       "      <td>छ</td>\n",
       "      <td>*</td>\n",
       "      <td>*</td>\n",
       "      <td>छैन</td>\n",
       "      <td>छैन</td>\n",
       "      <td>छैन</td>\n",
       "      <td>*</td>\n",
       "      <td>छैन</td>\n",
       "    </tr>\n",
       "  </tbody>\n",
       "</table>\n",
       "</div>"
      ],
      "text/plain": [
       "    phone num  1    2  3  4  5    6  7  8  9 10   11   12   13 14   15\n",
       "0  9869231782  छ  छैन  *  *  *  err  *  छ  *  *  छैन  छैन  छैन  *  छैन"
      ]
     },
     "execution_count": 9,
     "metadata": {},
     "output_type": "execute_result"
    }
   ],
   "source": [
    "import pandas as pd\n",
    "pd.read_csv(\"results.csv\")"
   ]
  },
  {
   "cell_type": "code",
   "execution_count": null,
   "metadata": {},
   "outputs": [],
   "source": [
    "# questions = [\"के तपाईको टाउको दुख्छ\", \"के तपाइलाई ज्वरो छ \", \"के तपाई को नाक बग्छ \", \"के तपाइलाई सास फेर्न समस्या छ \"]\n",
    "# for i in range(0, len(questions)):\n",
    "#     speech = gTTS(text[i], lang = \"en-IN\", slow = False)\n",
    "#     name=\"questions/\"+str(i)+\".mp3\"\n",
    "#     speech.save(name)\n",
    "\n",
    "# def listen_and_recognize(lang=\"ne-NP\"):\n",
    "#     mic = sr.Microphone(device_index=1)\n",
    "#     with mic as source:\n",
    "#         recognizer.adjust_for_ambient_noise(source)\n",
    "#         audio = recognizer.listen(source)\n",
    "#     try:\n",
    "#         output=recognizer.recognize_google(audio, language=lang)\n",
    "#     except sr.RequestError:\n",
    "#         output=\"API unavailable\"\n",
    "#     except sr.UnknownValueError:\n",
    "#         output=\"recognition err\"\n",
    "#     return output\n",
    "\n",
    "# def listen_and_save(num, lang=\"ne-NP\"):\n",
    "#     mic = sr.Microphone(device_index=1)\n",
    "#     with mic as source:\n",
    "#         audio = recognizer.listen(source)\n",
    "#         filename=\"recorded/rec_\"+str(num)+\".wav\"\n",
    "#         with open(filename, \"wb\") as f:\n",
    "#             f.write(audio.get_wav_data())\n",
    "\n",
    "# #listen and recognize here\n",
    "# for i in range(0, 4):\n",
    "#     temp=\"questions/text_\"+str(i)+\".mp3\"\n",
    "#     playsound(temp)\n",
    "#     print(listen_and_recognize(i))\n",
    "    \n",
    "# #listen and save here\n",
    "# for i in range(0, 4):\n",
    "#     temp=\"questions/text_\"+str(i)+\".mp3\"\n",
    "#     playsound(temp)\n",
    "#     print(listen_and_save(i))"
   ]
  }
 ],
 "metadata": {
  "kernelspec": {
   "display_name": "Python 3",
   "language": "python",
   "name": "python3"
  },
  "language_info": {
   "codemirror_mode": {
    "name": "ipython",
    "version": 3
   },
   "file_extension": ".py",
   "mimetype": "text/x-python",
   "name": "python",
   "nbconvert_exporter": "python",
   "pygments_lexer": "ipython3",
   "version": "3.7.4"
  }
 },
 "nbformat": 4,
 "nbformat_minor": 2
}
