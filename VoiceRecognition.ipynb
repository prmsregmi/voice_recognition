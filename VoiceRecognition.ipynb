{
 "cells": [
  {
   "cell_type": "markdown",
   "metadata": {},
   "source": [
    "## Dependencies required are pyaudio, speechrecognition, playsound, gTTS"
   ]
  },
  {
   "cell_type": "code",
   "execution_count": 1,
   "metadata": {},
   "outputs": [],
   "source": [
    "import speech_recognition as sr\n",
    "import os, pyaudio, wave, time, csv\n",
    "from gtts import gTTS\n",
    "from playsound import playsound\n",
    "from threading import Thread\n",
    "recognizer=sr.Recognizer()"
   ]
  },
  {
   "cell_type": "code",
   "execution_count": 60,
   "metadata": {},
   "outputs": [],
   "source": [
    "#generate dummy questions and probable answers\n",
    "questions = [\"के तपाईको टाउको दुख्छ\", \"के तपाइलाई ज्वरो छ \", \"के तपाई को नाक बग्छ \", \"के तपाइलाई सास फेर्न समस्या छ \"]\n",
    "for i in range(0, len(questions)):\n",
    "    speech = gTTS(text[i], lang = \"en-IN\", slow = False)\n",
    "    name=\"questions/\"+str(i)+\".mp3\"\n",
    "    speech.save(name)\n",
    "    \n",
    "ans=[\n",
    "     [\"छ\", \"छैन\",\"दुख्छ\", \"दुख्दैन\",\"अलिअलि दुख्छ\",\"धेरै दुख्छ\", \"दुखिरख्छ\", \"दुखेको छ\", \"दुखेको छैन\"],\n",
    "     [\"छ\", \"छैन\", \"अलिअलि छ\", \"धेरै छ\", \"आइरको छ\", \"आको छैन\"],\n",
    "     [\"छ\", \"छैन\", \"बग्छ\", \"बग्दैन\", \"बगेको छ\", \"बगेको छैन\" ],\n",
    "     [\"छ\", \"छैन\", \"समस्या छ\", \"समस्या छैन\", \"अलिअलि छ\"]\n",
    "]"
   ]
  },
  {
   "cell_type": "code",
   "execution_count": 5,
   "metadata": {},
   "outputs": [],
   "source": [
    "def recognize(filename, lang=\"ne-NP\"):\n",
    "    my_file=sr.AudioFile(filename)\n",
    "    with my_file as source:\n",
    "        recognizer.adjust_for_ambient_noise(source)\n",
    "        audio = recognizer.record(source)\n",
    "    try:\n",
    "        output=recognizer.recognize_google(audio, language=lang, show_all=True)\n",
    "    except sr.RequestError:\n",
    "        output=\"API unavailable or did not response\"\n",
    "    except sr.UnknownValueError:\n",
    "        output=\"Did not recognize the audio\"\n",
    "    return output"
   ]
  },
  {
   "cell_type": "code",
   "execution_count": 77,
   "metadata": {},
   "outputs": [],
   "source": [
    "def record_and_save(num):\n",
    "    time.sleep(1)\n",
    "    print(\"go\")\n",
    "    chunk = 1024\n",
    "    sample_format = pyaudio.paInt16\n",
    "    channels = 2\n",
    "    fs = 44100\n",
    "    seconds = 5\n",
    "    filename = \"recorded/\"+str(phone_num)+\"_\"+str(num)+\".wav\"\n",
    "\n",
    "    p = pyaudio.PyAudio()\n",
    "\n",
    "    stream = p.open(format=sample_format,\n",
    "                    channels=channels,\n",
    "                    rate=fs,\n",
    "                    frames_per_buffer=chunk,\n",
    "                    input=True)\n",
    "\n",
    "    frames = []\n",
    "\n",
    "\n",
    "    for i in range(0, int(fs / chunk * seconds)):\n",
    "        data = stream.read(chunk)\n",
    "        frames.append(data)\n",
    "\n",
    "\n",
    "    stream.stop_stream()\n",
    "    stream.close()\n",
    "    p.terminate()\n",
    "\n",
    "    wf = wave.open(filename, 'wb')\n",
    "    wf.setnchannels(channels)\n",
    "    wf.setsampwidth(p.get_sample_size(sample_format))\n",
    "    wf.setframerate(fs)\n",
    "    wf.writeframes(b''.join(frames))\n",
    "    wf.close()"
   ]
  },
  {
   "cell_type": "code",
   "execution_count": 83,
   "metadata": {},
   "outputs": [
    {
     "name": "stdout",
     "output_type": "stream",
     "text": [
      "go\n",
      "go\n",
      "go\n",
      "go\n"
     ]
    }
   ],
   "source": [
    "#record here\n",
    "from random import randint\n",
    "phone_num=randint(9800000000,9869999999)\n",
    "for i in range(0, 4):\n",
    "    temp=\"questions/\"+str(i)+\".mp3\"\n",
    "    \n",
    "    #thread creation\n",
    "    t1=Thread(target=playsound, args=(temp,))\n",
    "    t2=Thread(target=record_and_save, args=(i,))\n",
    "\n",
    "    t1.start()\n",
    "    t2.start()\n",
    "\n",
    "    t1.join()\n",
    "    t2.join()"
   ]
  },
  {
   "cell_type": "code",
   "execution_count": 84,
   "metadata": {},
   "outputs": [],
   "source": [
    "#recognize here\n",
    "output=[]\n",
    "for i in range(0, 4):\n",
    "    temp=[]\n",
    "    filename=\"recorded/\"+str(phone_num)+\"_\"+str(i)+\".wav\"\n",
    "    converted=recognize(filename)\n",
    "    if(len(converted)==0):\n",
    "        output.append(\"err\")\n",
    "    else:\n",
    "        for a in converted['alternative']:\n",
    "            temp.append(a['transcript'])\n",
    "        output.append(temp)\n",
    "\n",
    "        \n",
    "        \n",
    "#append to csv here\n",
    "import numpy as np\n",
    "results=[phone_num]\n",
    "for i in range(0,4):\n",
    "    c = [value for value in ans[i] if value in output[i]]\n",
    "    if output[i]==\"err\":\n",
    "        results.append(\"err\")\n",
    "    else:\n",
    "        if len(c)>0:\n",
    "            results.append(c[0])\n",
    "        else:\n",
    "            results.append(\"*\")\n",
    "        \n",
    "with open(r'results.csv', 'a', encoding=\"utf-8\") as f:\n",
    "    writer = csv.writer(f)\n",
    "    writer.writerow(results)\n",
    "\n",
    "print(output)\n",
    "print()\n",
    "print(results)"
   ]
  },
  {
   "cell_type": "code",
   "execution_count": 87,
   "metadata": {},
   "outputs": [
    {
     "data": {
      "text/html": [
       "<div>\n",
       "<style scoped>\n",
       "    .dataframe tbody tr th:only-of-type {\n",
       "        vertical-align: middle;\n",
       "    }\n",
       "\n",
       "    .dataframe tbody tr th {\n",
       "        vertical-align: top;\n",
       "    }\n",
       "\n",
       "    .dataframe thead th {\n",
       "        text-align: right;\n",
       "    }\n",
       "</style>\n",
       "<table border=\"1\" class=\"dataframe\">\n",
       "  <thead>\n",
       "    <tr style=\"text-align: right;\">\n",
       "      <th></th>\n",
       "      <th>phone_num</th>\n",
       "      <th>1</th>\n",
       "      <th>2</th>\n",
       "      <th>3</th>\n",
       "      <th>4</th>\n",
       "    </tr>\n",
       "  </thead>\n",
       "  <tbody>\n",
       "    <tr>\n",
       "      <td>0</td>\n",
       "      <td>9809200114</td>\n",
       "      <td>दुख्छ</td>\n",
       "      <td>छैन</td>\n",
       "      <td>बग्छ</td>\n",
       "      <td>छैन</td>\n",
       "    </tr>\n",
       "    <tr>\n",
       "      <td>1</td>\n",
       "      <td>9809571247</td>\n",
       "      <td>दुखेको छ</td>\n",
       "      <td>*</td>\n",
       "      <td>बग्दैन</td>\n",
       "      <td>छ</td>\n",
       "    </tr>\n",
       "  </tbody>\n",
       "</table>\n",
       "</div>"
      ],
      "text/plain": [
       "    phone_num         1    2       3    4\n",
       "0  9809200114     दुख्छ  छैन    बग्छ  छैन\n",
       "1  9809571247  दुखेको छ    *  बग्दैन    छ"
      ]
     },
     "execution_count": 87,
     "metadata": {},
     "output_type": "execute_result"
    }
   ],
   "source": [
    "import pandas as pd\n",
    "pd.read_csv(\"results.csv\")"
   ]
  },
  {
   "cell_type": "code",
   "execution_count": null,
   "metadata": {},
   "outputs": [],
   "source": [
    "def listen_and_recognize(lang=\"ne-NP\"):\n",
    "    mic = sr.Microphone(device_index=1)\n",
    "    with mic as source:\n",
    "        recognizer.adjust_for_ambient_noise(source)\n",
    "        audio = recognizer.listen(source)\n",
    "    try:\n",
    "        output=recognizer.recognize_google(audio, language=lang)\n",
    "    except sr.RequestError:\n",
    "        output=\"API unavailable\"\n",
    "    except sr.UnknownValueError:\n",
    "        output=\"recognition err\"\n",
    "    return output\n",
    "\n",
    "def listen_and_save(num, lang=\"ne-NP\"):\n",
    "    mic = sr.Microphone(device_index=1)\n",
    "    with mic as source:\n",
    "        audio = recognizer.listen(source)\n",
    "        filename=\"recorded/rec_\"+str(num)+\".wav\"\n",
    "        with open(filename, \"wb\") as f:\n",
    "            f.write(audio.get_wav_data())\n",
    "\n",
    "#listen and recognize here\n",
    "for i in range(0, 4):\n",
    "    temp=\"questions/text_\"+str(i)+\".mp3\"\n",
    "    playsound(temp)\n",
    "    print(listen_and_recognize(i))\n",
    "    \n",
    "#listen and save here\n",
    "for i in range(0, 4):\n",
    "    temp=\"questions/text_\"+str(i)+\".mp3\"\n",
    "    playsound(temp)\n",
    "    print(listen_and_save(i))"
   ]
  }
 ],
 "metadata": {
  "kernelspec": {
   "display_name": "Python 3",
   "language": "python",
   "name": "python3"
  },
  "language_info": {
   "codemirror_mode": {
    "name": "ipython",
    "version": 3
   },
   "file_extension": ".py",
   "mimetype": "text/x-python",
   "name": "python",
   "nbconvert_exporter": "python",
   "pygments_lexer": "ipython3",
   "version": "3.7.4"
  }
 },
 "nbformat": 4,
 "nbformat_minor": 2
}
